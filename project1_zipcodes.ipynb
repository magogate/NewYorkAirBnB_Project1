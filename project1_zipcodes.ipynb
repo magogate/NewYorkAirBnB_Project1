{
 "cells": [
  {
   "cell_type": "code",
   "execution_count": 2,
   "metadata": {},
   "outputs": [],
   "source": [
    "import requests\n",
    "import json\n",
    "import pandas as pd\n",
    "import matplotlib as plt\n",
    "from config import gkey"
   ]
  },
  {
   "cell_type": "code",
   "execution_count": 19,
   "metadata": {},
   "outputs": [
    {
     "name": "stdout",
     "output_type": "stream",
     "text": [
      "   latitude  longitude\n",
      "0  40.64749  -73.97237\n",
      "1  40.75362  -73.98377\n",
      "2  40.80902  -73.94190\n",
      "3  40.68514  -73.95976\n",
      "4  40.79851  -73.94399\n"
     ]
    }
   ],
   "source": [
    "df = pd.read_csv(\"../project1/AB_NYC_2019.csv\")\n",
    "df.head()\n",
    "lat = df.iloc[0:10,6]\n",
    "lng = df.iloc[0:10,7]\n",
    "lat_str =lat.astype(str)\n",
    "lng_str =lng.astype(str)\n",
    "lat_lng = df.iloc[0:5,6:8]\n",
    "# lat_lng_str = lat_lng.astype(str)\n",
    "# len(lng)\n",
    "# #print(lat_str)\n",
    "print(lat_lng)\n"
   ]
  },
  {
   "cell_type": "code",
   "execution_count": 11,
   "metadata": {},
   "outputs": [
    {
     "name": "stdout",
     "output_type": "stream",
     "text": [
      "((40.647490000000005, -73.97237), (40.75362, -73.98376999999999), (40.809020000000004, -73.9419), (40.685140000000004, -73.95976), (40.79851, -73.94399), (40.74767, -73.975), (40.68688, -73.95596), (40.76489, -73.98493), (40.80178, -73.96723), (40.713440000000006, -73.99037))\n"
     ]
    }
   ],
   "source": [
    "#{\"latlng\":{lat,lng}\n",
    "# lat_lng = tuple(zip(lat,lng))\n",
    "# lat_lng = str(lat_lng)\n",
    "# type(lat_lng)\n",
    "# print(lat_lng)\n",
    "# #''.join(map(str, lat_lng))"
   ]
  },
  {
   "cell_type": "code",
   "execution_count": null,
   "metadata": {},
   "outputs": [],
   "source": [
    "\n"
   ]
  },
  {
   "cell_type": "code",
   "execution_count": 28,
   "metadata": {},
   "outputs": [
    {
     "name": "stdout",
     "output_type": "stream",
     "text": [
      "['11218', '10018', '10027', '11238', '10029', '10016', '11216', '10019', '10025', '10002']\n"
     ]
    }
   ],
   "source": [
    "\n",
    "postal_code = \"postal_code\"\n",
    "zip_code= []\n",
    "\n",
    "base_url= \"https://maps.googleapis.com/maps/api/geocode/json\"\n",
    "\n",
    "\n",
    "for i in range(len(lat)):\n",
    "    query=f\"{base_url}?latlng={lat[i]},{lng[i]}&result_type={postal_code}&key={gkey}\"\n",
    "    response = requests.get(query).json()\n",
    "    try:\n",
    "        zip_code.append(response[\"results\"][0][\"address_components\"][0][\"long_name\"])\n",
    "    except:\n",
    "           print(\"not found\")        \n",
    "# #print(response)\n",
    "print(zip_code)"
   ]
  },
  {
   "cell_type": "code",
   "execution_count": 23,
   "metadata": {},
   "outputs": [
    {
     "name": "stdout",
     "output_type": "stream",
     "text": [
      "{\n",
      "    \"plus_code\": {\n",
      "        \"compound_code\": \"Q238+CF New York, NY, USA\",\n",
      "        \"global_code\": \"87G8Q238+CF\"\n",
      "    },\n",
      "    \"results\": [\n",
      "        {\n",
      "            \"address_components\": [\n",
      "                {\n",
      "                    \"long_name\": \"10018\",\n",
      "                    \"short_name\": \"10018\",\n",
      "                    \"types\": [\n",
      "                        \"postal_code\"\n",
      "                    ]\n",
      "                },\n",
      "                {\n",
      "                    \"long_name\": \"Manhattan\",\n",
      "                    \"short_name\": \"Manhattan\",\n",
      "                    \"types\": [\n",
      "                        \"political\",\n",
      "                        \"sublocality\",\n",
      "                        \"sublocality_level_1\"\n",
      "                    ]\n",
      "                },\n",
      "                {\n",
      "                    \"long_name\": \"New York\",\n",
      "                    \"short_name\": \"New York\",\n",
      "                    \"types\": [\n",
      "                        \"locality\",\n",
      "                        \"political\"\n",
      "                    ]\n",
      "                },\n",
      "                {\n",
      "                    \"long_name\": \"New York County\",\n",
      "                    \"short_name\": \"New York County\",\n",
      "                    \"types\": [\n",
      "                        \"administrative_area_level_2\",\n",
      "                        \"political\"\n",
      "                    ]\n",
      "                },\n",
      "                {\n",
      "                    \"long_name\": \"New York\",\n",
      "                    \"short_name\": \"NY\",\n",
      "                    \"types\": [\n",
      "                        \"administrative_area_level_1\",\n",
      "                        \"political\"\n",
      "                    ]\n",
      "                },\n",
      "                {\n",
      "                    \"long_name\": \"United States\",\n",
      "                    \"short_name\": \"US\",\n",
      "                    \"types\": [\n",
      "                        \"country\",\n",
      "                        \"political\"\n",
      "                    ]\n",
      "                }\n",
      "            ],\n",
      "            \"formatted_address\": \"New York, NY 10018, USA\",\n",
      "            \"geometry\": {\n",
      "                \"bounds\": {\n",
      "                    \"northeast\": {\n",
      "                        \"lat\": 40.7648468,\n",
      "                        \"lng\": -73.980888\n",
      "                    },\n",
      "                    \"southwest\": {\n",
      "                        \"lat\": 40.749102,\n",
      "                        \"lng\": -74.0124001\n",
      "                    }\n",
      "                },\n",
      "                \"location\": {\n",
      "                    \"lat\": 40.755322,\n",
      "                    \"lng\": -73.9932872\n",
      "                },\n",
      "                \"location_type\": \"APPROXIMATE\",\n",
      "                \"viewport\": {\n",
      "                    \"northeast\": {\n",
      "                        \"lat\": 40.7648468,\n",
      "                        \"lng\": -73.980888\n",
      "                    },\n",
      "                    \"southwest\": {\n",
      "                        \"lat\": 40.749102,\n",
      "                        \"lng\": -74.0124001\n",
      "                    }\n",
      "                }\n",
      "            },\n",
      "            \"place_id\": \"ChIJq_e9GK1ZwokRKgCpnuOYxXQ\",\n",
      "            \"types\": [\n",
      "                \"postal_code\"\n",
      "            ]\n",
      "        }\n",
      "    ],\n",
      "    \"status\": \"OK\"\n",
      "}\n"
     ]
    }
   ],
   "source": [
    "place_data = response.json()\n",
    "print(json.dumps(place_data, indent=4, sort_keys=True))\n"
   ]
  },
  {
   "cell_type": "code",
   "execution_count": 24,
   "metadata": {},
   "outputs": [
    {
     "name": "stdout",
     "output_type": "stream",
     "text": [
      "10018\n"
     ]
    }
   ],
   "source": [
    "print(place_data[\"results\"][0][\"address_components\"][0][\"long_name\"]) "
   ]
  },
  {
   "cell_type": "code",
   "execution_count": null,
   "metadata": {},
   "outputs": [],
   "source": []
  },
  {
   "cell_type": "code",
   "execution_count": null,
   "metadata": {},
   "outputs": [],
   "source": []
  }
 ],
 "metadata": {
  "kernelspec": {
   "display_name": "Python 3",
   "language": "python",
   "name": "python3"
  },
  "language_info": {
   "codemirror_mode": {
    "name": "ipython",
    "version": 3
   },
   "file_extension": ".py",
   "mimetype": "text/x-python",
   "name": "python",
   "nbconvert_exporter": "python",
   "pygments_lexer": "ipython3",
   "version": "3.7.3"
  }
 },
 "nbformat": 4,
 "nbformat_minor": 4
}
