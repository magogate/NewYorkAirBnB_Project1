{
 "cells": [
  {
   "cell_type": "markdown",
   "metadata": {},
   "source": [
    "# Air BnB NYC Data Analysis: Where you will prefer to stay if you visit NYC?"
   ]
  },
  {
   "cell_type": "markdown",
   "metadata": {},
   "source": [
    "#Project: Air BNB NYC Data Analysis\n",
    "#Date: 10/10/2019\n",
    "#Contributers: \n",
    "1.Grettel Canepari\n",
    "2.Katherine Lee\n",
    "3.Mandar Gogate\n",
    "4.Petra Alex\n",
    "5.Preet Puri\n",
    "6.Sweta Shekhar"
   ]
  },
  {
   "cell_type": "markdown",
   "metadata": {},
   "source": [
    "# Keep source file and config file at same location where your ipynb file is"
   ]
  },
  {
   "cell_type": "code",
   "execution_count": 1,
   "metadata": {},
   "outputs": [],
   "source": [
    "import gmaps\n",
    "import matplotlib.pyplot as plt\n",
    "import pandas as pd\n",
    "import numpy as np\n",
    "import requests \n",
    "# Google developer API key\n",
    "from config import gkey\n",
    "\n",
    "# Access maps with unique API key\n",
    "gmaps.configure(gkey)"
   ]
  },
  {
   "cell_type": "code",
   "execution_count": 2,
   "metadata": {},
   "outputs": [],
   "source": [
    "file_ny_air_bnb = \"C:/Users/KXL0EN5/AB_NYC_2019.csv\""
   ]
  },
  {
   "cell_type": "code",
   "execution_count": 3,
   "metadata": {},
   "outputs": [],
   "source": [
    "#read csv file and load into Data Frame\n",
    "df_ny_air_bnb = pd.read_csv(file_ny_air_bnb)"
   ]
  },
  {
   "cell_type": "code",
   "execution_count": 4,
   "metadata": {
    "scrolled": true
   },
   "outputs": [
    {
     "data": {
      "text/html": [
       "<div>\n",
       "<style scoped>\n",
       "    .dataframe tbody tr th:only-of-type {\n",
       "        vertical-align: middle;\n",
       "    }\n",
       "\n",
       "    .dataframe tbody tr th {\n",
       "        vertical-align: top;\n",
       "    }\n",
       "\n",
       "    .dataframe thead th {\n",
       "        text-align: right;\n",
       "    }\n",
       "</style>\n",
       "<table border=\"1\" class=\"dataframe\">\n",
       "  <thead>\n",
       "    <tr style=\"text-align: right;\">\n",
       "      <th></th>\n",
       "      <th>id</th>\n",
       "      <th>name</th>\n",
       "      <th>host_id</th>\n",
       "      <th>host_name</th>\n",
       "      <th>neighbourhood_group</th>\n",
       "      <th>neighbourhood</th>\n",
       "      <th>latitude</th>\n",
       "      <th>longitude</th>\n",
       "      <th>room_type</th>\n",
       "      <th>price</th>\n",
       "      <th>minimum_nights</th>\n",
       "      <th>number_of_reviews</th>\n",
       "      <th>last_review</th>\n",
       "      <th>reviews_per_month</th>\n",
       "      <th>calculated_host_listings_count</th>\n",
       "      <th>availability_365</th>\n",
       "    </tr>\n",
       "  </thead>\n",
       "  <tbody>\n",
       "    <tr>\n",
       "      <th>0</th>\n",
       "      <td>2539</td>\n",
       "      <td>Clean &amp; quiet apt home by the park</td>\n",
       "      <td>2787</td>\n",
       "      <td>John</td>\n",
       "      <td>Brooklyn</td>\n",
       "      <td>Kensington</td>\n",
       "      <td>40.64749</td>\n",
       "      <td>-73.97237</td>\n",
       "      <td>Private room</td>\n",
       "      <td>149</td>\n",
       "      <td>1</td>\n",
       "      <td>9</td>\n",
       "      <td>2018-10-19</td>\n",
       "      <td>0.21</td>\n",
       "      <td>6</td>\n",
       "      <td>365</td>\n",
       "    </tr>\n",
       "    <tr>\n",
       "      <th>1</th>\n",
       "      <td>2595</td>\n",
       "      <td>Skylit Midtown Castle</td>\n",
       "      <td>2845</td>\n",
       "      <td>Jennifer</td>\n",
       "      <td>Manhattan</td>\n",
       "      <td>Midtown</td>\n",
       "      <td>40.75362</td>\n",
       "      <td>-73.98377</td>\n",
       "      <td>Entire home/apt</td>\n",
       "      <td>225</td>\n",
       "      <td>1</td>\n",
       "      <td>45</td>\n",
       "      <td>2019-05-21</td>\n",
       "      <td>0.38</td>\n",
       "      <td>2</td>\n",
       "      <td>355</td>\n",
       "    </tr>\n",
       "  </tbody>\n",
       "</table>\n",
       "</div>"
      ],
      "text/plain": [
       "     id                                name  host_id host_name  \\\n",
       "0  2539  Clean & quiet apt home by the park     2787      John   \n",
       "1  2595               Skylit Midtown Castle     2845  Jennifer   \n",
       "\n",
       "  neighbourhood_group neighbourhood  latitude  longitude        room_type  \\\n",
       "0            Brooklyn    Kensington  40.64749  -73.97237     Private room   \n",
       "1           Manhattan       Midtown  40.75362  -73.98377  Entire home/apt   \n",
       "\n",
       "   price  minimum_nights  number_of_reviews last_review  reviews_per_month  \\\n",
       "0    149               1                  9  2018-10-19               0.21   \n",
       "1    225               1                 45  2019-05-21               0.38   \n",
       "\n",
       "   calculated_host_listings_count  availability_365  \n",
       "0                               6               365  \n",
       "1                               2               355  "
      ]
     },
     "execution_count": 4,
     "metadata": {},
     "output_type": "execute_result"
    }
   ],
   "source": [
    "#Print the dataframe\n",
    "df_ny_air_bnb.head(2)"
   ]
  },
  {
   "cell_type": "code",
   "execution_count": 5,
   "metadata": {},
   "outputs": [
    {
     "name": "stdout",
     "output_type": "stream",
     "text": [
      "<class 'pandas.core.frame.DataFrame'>\n",
      "RangeIndex: 48895 entries, 0 to 48894\n",
      "Data columns (total 16 columns):\n",
      "id                                48895 non-null int64\n",
      "name                              48879 non-null object\n",
      "host_id                           48895 non-null int64\n",
      "host_name                         48874 non-null object\n",
      "neighbourhood_group               48895 non-null object\n",
      "neighbourhood                     48895 non-null object\n",
      "latitude                          48895 non-null float64\n",
      "longitude                         48895 non-null float64\n",
      "room_type                         48895 non-null object\n",
      "price                             48895 non-null int64\n",
      "minimum_nights                    48895 non-null int64\n",
      "number_of_reviews                 48895 non-null int64\n",
      "last_review                       38843 non-null object\n",
      "reviews_per_month                 38843 non-null float64\n",
      "calculated_host_listings_count    48895 non-null int64\n",
      "availability_365                  48895 non-null int64\n",
      "dtypes: float64(3), int64(7), object(6)\n",
      "memory usage: 4.8+ MB\n"
     ]
    }
   ],
   "source": [
    "df_ny_air_bnb.info()"
   ]
  },
  {
   "cell_type": "markdown",
   "metadata": {},
   "source": [
    "As metadata above shows, there are few nulls in our data. However not all null records are useless,\n",
    "e.g. last_review, reviews_per_month can have null values, but remaining data is needed. \n",
    "Considering our goal, we can not have null for name or host_name, because we can not know who the host is or name of the location is. We will drop all rows where we will find nulls at host_name or name columns"
   ]
  },
  {
   "cell_type": "code",
   "execution_count": 6,
   "metadata": {},
   "outputs": [
    {
     "name": "stdout",
     "output_type": "stream",
     "text": [
      "<class 'pandas.core.frame.DataFrame'>\n",
      "RangeIndex: 48895 entries, 0 to 48894\n",
      "Data columns (total 16 columns):\n",
      "id                                48895 non-null int64\n",
      "name                              48879 non-null object\n",
      "host_id                           48895 non-null int64\n",
      "host_name                         48874 non-null object\n",
      "neighbourhood_group               48895 non-null object\n",
      "neighbourhood                     48895 non-null object\n",
      "latitude                          48895 non-null float64\n",
      "longitude                         48895 non-null float64\n",
      "room_type                         48895 non-null object\n",
      "price                             48895 non-null int64\n",
      "minimum_nights                    48895 non-null int64\n",
      "number_of_reviews                 48895 non-null int64\n",
      "last_review                       48895 non-null object\n",
      "reviews_per_month                 48895 non-null float64\n",
      "calculated_host_listings_count    48895 non-null int64\n",
      "availability_365                  48895 non-null int64\n",
      "dtypes: float64(3), int64(7), object(6)\n",
      "memory usage: 4.8+ MB\n"
     ]
    }
   ],
   "source": [
    "df_ny_air_bnb.loc[df_ny_air_bnb[\"reviews_per_month\"].isnull(),[\"reviews_per_month\"]]=0\n",
    "df_ny_air_bnb.loc[df_ny_air_bnb[\"last_review\"].isnull(),[\"last_review\"]]=\"1900-01-01\"\n",
    "df_ny_air_bnb.info()"
   ]
  },
  {
   "cell_type": "markdown",
   "metadata": {},
   "source": [
    "Now we can drop rows where we have null values in name or host_name column"
   ]
  },
  {
   "cell_type": "code",
   "execution_count": 7,
   "metadata": {},
   "outputs": [
    {
     "name": "stdout",
     "output_type": "stream",
     "text": [
      "<class 'pandas.core.frame.DataFrame'>\n",
      "Int64Index: 48858 entries, 0 to 48894\n",
      "Data columns (total 16 columns):\n",
      "id                                48858 non-null int64\n",
      "name                              48858 non-null object\n",
      "host_id                           48858 non-null int64\n",
      "host_name                         48858 non-null object\n",
      "neighbourhood_group               48858 non-null object\n",
      "neighbourhood                     48858 non-null object\n",
      "latitude                          48858 non-null float64\n",
      "longitude                         48858 non-null float64\n",
      "room_type                         48858 non-null object\n",
      "price                             48858 non-null int64\n",
      "minimum_nights                    48858 non-null int64\n",
      "number_of_reviews                 48858 non-null int64\n",
      "last_review                       48858 non-null object\n",
      "reviews_per_month                 48858 non-null float64\n",
      "calculated_host_listings_count    48858 non-null int64\n",
      "availability_365                  48858 non-null int64\n",
      "dtypes: float64(3), int64(7), object(6)\n",
      "memory usage: 5.2+ MB\n"
     ]
    }
   ],
   "source": [
    "df_ny_air_bnb = df_ny_air_bnb.dropna(how='any',axis=0) \n",
    "df_ny_air_bnb.info()"
   ]
  },
  {
   "cell_type": "markdown",
   "metadata": {},
   "source": [
    "# What all different types of rooms are available? and how many are they?"
   ]
  },
  {
   "cell_type": "code",
   "execution_count": 8,
   "metadata": {},
   "outputs": [],
   "source": [
    "#https://pandas.pydata.org/pandas-docs/stable/reference/api/pandas.DataFrame.transpose.html\n",
    "#Considered Host_ID and not ID, as Host_ID is a correst way to count accomodations\n",
    "df_roomTypes = pd.DataFrame([df_ny_air_bnb.groupby(\"room_type\")[\"host_id\"].count()]).T"
   ]
  },
  {
   "cell_type": "code",
   "execution_count": 9,
   "metadata": {},
   "outputs": [
    {
     "data": {
      "text/html": [
       "<div>\n",
       "<style scoped>\n",
       "    .dataframe tbody tr th:only-of-type {\n",
       "        vertical-align: middle;\n",
       "    }\n",
       "\n",
       "    .dataframe tbody tr th {\n",
       "        vertical-align: top;\n",
       "    }\n",
       "\n",
       "    .dataframe thead th {\n",
       "        text-align: right;\n",
       "    }\n",
       "</style>\n",
       "<table border=\"1\" class=\"dataframe\">\n",
       "  <thead>\n",
       "    <tr style=\"text-align: right;\">\n",
       "      <th></th>\n",
       "      <th>host_id</th>\n",
       "    </tr>\n",
       "    <tr>\n",
       "      <th>room_type</th>\n",
       "      <th></th>\n",
       "    </tr>\n",
       "  </thead>\n",
       "  <tbody>\n",
       "    <tr>\n",
       "      <th>Entire home/apt</th>\n",
       "      <td>25393</td>\n",
       "    </tr>\n",
       "    <tr>\n",
       "      <th>Private room</th>\n",
       "      <td>22306</td>\n",
       "    </tr>\n",
       "    <tr>\n",
       "      <th>Shared room</th>\n",
       "      <td>1159</td>\n",
       "    </tr>\n",
       "  </tbody>\n",
       "</table>\n",
       "</div>"
      ],
      "text/plain": [
       "                 host_id\n",
       "room_type               \n",
       "Entire home/apt    25393\n",
       "Private room       22306\n",
       "Shared room         1159"
      ]
     },
     "execution_count": 9,
     "metadata": {},
     "output_type": "execute_result"
    }
   ],
   "source": [
    " pd.DataFrame([df_ny_air_bnb.groupby(\"room_type\")[\"host_id\"].count()]).T"
   ]
  },
  {
   "cell_type": "markdown",
   "metadata": {},
   "source": [
    "# What is an Average Cost per room by each room type?"
   ]
  },
  {
   "cell_type": "code",
   "execution_count": 10,
   "metadata": {},
   "outputs": [],
   "source": [
    "df_roomTypes[\"AveragePrice\"] = pd.DataFrame([df_ny_air_bnb.groupby(\"room_type\")[\"price\"].mean()]).T"
   ]
  },
  {
   "cell_type": "code",
   "execution_count": 11,
   "metadata": {},
   "outputs": [
    {
     "data": {
      "text/html": [
       "<div>\n",
       "<style scoped>\n",
       "    .dataframe tbody tr th:only-of-type {\n",
       "        vertical-align: middle;\n",
       "    }\n",
       "\n",
       "    .dataframe tbody tr th {\n",
       "        vertical-align: top;\n",
       "    }\n",
       "\n",
       "    .dataframe thead th {\n",
       "        text-align: right;\n",
       "    }\n",
       "</style>\n",
       "<table border=\"1\" class=\"dataframe\">\n",
       "  <thead>\n",
       "    <tr style=\"text-align: right;\">\n",
       "      <th></th>\n",
       "      <th>price</th>\n",
       "    </tr>\n",
       "    <tr>\n",
       "      <th>room_type</th>\n",
       "      <th></th>\n",
       "    </tr>\n",
       "  </thead>\n",
       "  <tbody>\n",
       "    <tr>\n",
       "      <th>Entire home/apt</th>\n",
       "      <td>211.806994</td>\n",
       "    </tr>\n",
       "    <tr>\n",
       "      <th>Private room</th>\n",
       "      <td>89.794360</td>\n",
       "    </tr>\n",
       "    <tr>\n",
       "      <th>Shared room</th>\n",
       "      <td>70.075928</td>\n",
       "    </tr>\n",
       "  </tbody>\n",
       "</table>\n",
       "</div>"
      ],
      "text/plain": [
       "                      price\n",
       "room_type                  \n",
       "Entire home/apt  211.806994\n",
       "Private room      89.794360\n",
       "Shared room       70.075928"
      ]
     },
     "execution_count": 11,
     "metadata": {},
     "output_type": "execute_result"
    }
   ],
   "source": [
    "pd.DataFrame([df_ny_air_bnb.groupby(\"room_type\")[\"price\"].mean()]).T"
   ]
  },
  {
   "cell_type": "markdown",
   "metadata": {},
   "source": [
    "# Total No. Of Accomodations and Average Price by Room Types"
   ]
  },
  {
   "cell_type": "code",
   "execution_count": 12,
   "metadata": {},
   "outputs": [
    {
     "data": {
      "text/html": [
       "<div>\n",
       "<style scoped>\n",
       "    .dataframe tbody tr th:only-of-type {\n",
       "        vertical-align: middle;\n",
       "    }\n",
       "\n",
       "    .dataframe tbody tr th {\n",
       "        vertical-align: top;\n",
       "    }\n",
       "\n",
       "    .dataframe thead th {\n",
       "        text-align: right;\n",
       "    }\n",
       "</style>\n",
       "<table border=\"1\" class=\"dataframe\">\n",
       "  <thead>\n",
       "    <tr style=\"text-align: right;\">\n",
       "      <th></th>\n",
       "      <th>host_id</th>\n",
       "      <th>AveragePrice</th>\n",
       "    </tr>\n",
       "    <tr>\n",
       "      <th>room_type</th>\n",
       "      <th></th>\n",
       "      <th></th>\n",
       "    </tr>\n",
       "  </thead>\n",
       "  <tbody>\n",
       "    <tr>\n",
       "      <th>Entire home/apt</th>\n",
       "      <td>25393</td>\n",
       "      <td>211.806994</td>\n",
       "    </tr>\n",
       "    <tr>\n",
       "      <th>Private room</th>\n",
       "      <td>22306</td>\n",
       "      <td>89.794360</td>\n",
       "    </tr>\n",
       "    <tr>\n",
       "      <th>Shared room</th>\n",
       "      <td>1159</td>\n",
       "      <td>70.075928</td>\n",
       "    </tr>\n",
       "  </tbody>\n",
       "</table>\n",
       "</div>"
      ],
      "text/plain": [
       "                 host_id  AveragePrice\n",
       "room_type                             \n",
       "Entire home/apt    25393    211.806994\n",
       "Private room       22306     89.794360\n",
       "Shared room         1159     70.075928"
      ]
     },
     "execution_count": 12,
     "metadata": {},
     "output_type": "execute_result"
    }
   ],
   "source": [
    "df_roomTypes"
   ]
  },
  {
   "cell_type": "markdown",
   "metadata": {},
   "source": [
    "# As data shows, prices are ordered by Entire Home, Private Room & Shared Room"
   ]
  },
  {
   "cell_type": "code",
   "execution_count": 13,
   "metadata": {},
   "outputs": [
    {
     "data": {
      "text/plain": [
       "Text(0.5, 1.0, 'Average Price By Room Type')"
      ]
     },
     "execution_count": 13,
     "metadata": {},
     "output_type": "execute_result"
    },
    {
     "data": {
      "image/png": "[encoded data removed]",
      "text/plain": [
       "<Figure size 432x288 with 1 Axes>"
      ]
     },
     "metadata": {
      "needs_background": "light"
     },
     "output_type": "display_data"
    }
   ],
   "source": [
    "plt.bar(df_roomTypes.index, df_roomTypes[\"AveragePrice\"],\n",
    "        color='b', align=\"center\", width=0.5, label=\"Room Type\")\n",
    "plt.grid(axis='y')\n",
    "plt.ylabel(\"Average Price In $\")\n",
    "plt.xlabel(\"Room Types\")\n",
    "plt.legend(loc=\"upper right\")\n",
    "plt.title(\"Average Price By Room Type\")"
   ]
  },
  {
   "cell_type": "markdown",
   "metadata": {},
   "source": [
    "# How is the room count by each neighbourhood group & room type?"
   ]
  },
  {
   "cell_type": "code",
   "execution_count": 14,
   "metadata": {},
   "outputs": [
    {
     "data": {
      "text/html": [
       "<div>\n",
       "<style scoped>\n",
       "    .dataframe tbody tr th:only-of-type {\n",
       "        vertical-align: middle;\n",
       "    }\n",
       "\n",
       "    .dataframe tbody tr th {\n",
       "        vertical-align: top;\n",
       "    }\n",
       "\n",
       "    .dataframe thead tr th {\n",
       "        text-align: left;\n",
       "    }\n",
       "\n",
       "    .dataframe thead tr:last-of-type th {\n",
       "        text-align: right;\n",
       "    }\n",
       "</style>\n",
       "<table border=\"1\" class=\"dataframe\">\n",
       "  <thead>\n",
       "    <tr>\n",
       "      <th></th>\n",
       "      <th colspan=\"5\" halign=\"left\">host_id</th>\n",
       "    </tr>\n",
       "    <tr>\n",
       "      <th>neighbourhood_group</th>\n",
       "      <th>Bronx</th>\n",
       "      <th>Brooklyn</th>\n",
       "      <th>Manhattan</th>\n",
       "      <th>Queens</th>\n",
       "      <th>Staten Island</th>\n",
       "    </tr>\n",
       "    <tr>\n",
       "      <th>room_type</th>\n",
       "      <th></th>\n",
       "      <th></th>\n",
       "      <th></th>\n",
       "      <th></th>\n",
       "      <th></th>\n",
       "    </tr>\n",
       "  </thead>\n",
       "  <tbody>\n",
       "    <tr>\n",
       "      <th>Entire home/apt</th>\n",
       "      <td>323</td>\n",
       "      <td>8644</td>\n",
       "      <td>10562</td>\n",
       "      <td>1849</td>\n",
       "      <td>153</td>\n",
       "    </tr>\n",
       "    <tr>\n",
       "      <th>Private room</th>\n",
       "      <td>459</td>\n",
       "      <td>7735</td>\n",
       "      <td>6224</td>\n",
       "      <td>2201</td>\n",
       "      <td>113</td>\n",
       "    </tr>\n",
       "    <tr>\n",
       "      <th>Shared room</th>\n",
       "      <td>42</td>\n",
       "      <td>233</td>\n",
       "      <td>346</td>\n",
       "      <td>127</td>\n",
       "      <td>6</td>\n",
       "    </tr>\n",
       "  </tbody>\n",
       "</table>\n",
       "</div>"
      ],
      "text/plain": [
       "                    host_id                                        \n",
       "neighbourhood_group   Bronx Brooklyn Manhattan Queens Staten Island\n",
       "room_type                                                          \n",
       "Entire home/apt         323     8644     10562   1849           153\n",
       "Private room            459     7735      6224   2201           113\n",
       "Shared room              42      233       346    127             6"
      ]
     },
     "execution_count": 14,
     "metadata": {},
     "output_type": "execute_result"
    }
   ],
   "source": [
    "#https://pandas.pydata.org/pandas-docs/stable/reference/api/pandas.DataFrame.transpose.html\n",
    "#https://pandas.pydata.org/pandas-docs/stable/user_guide/reshaping.html\n",
    "pd.DataFrame([df_ny_air_bnb.groupby([\"room_type\",\"neighbourhood_group\"])[\"host_id\"].nunique()]).T.unstack(1).round(2)#.sort_values(by=\"Entire home/apt\", axis=1, ascending=False)"
   ]
  },
  {
   "cell_type": "markdown",
   "metadata": {},
   "source": [
    "# So how much % of Air BnB Accomodations we have by each neighbourhood group?"
   ]
  },
  {
   "cell_type": "code",
   "execution_count": 15,
   "metadata": {},
   "outputs": [],
   "source": [
    "var_total_hosts = df_ny_air_bnb[\"host_id\"].nunique()"
   ]
  },
  {
   "cell_type": "code",
   "execution_count": 16,
   "metadata": {},
   "outputs": [],
   "source": [
    "#https://stackoverflow.com/questions/49153253/pandas-rounding-when-converting-float-to-integer\n",
    "df_counts_by_neighbour_group = pd.DataFrame([df_ny_air_bnb.groupby([\"room_type\",\"neighbourhood_group\"])[\"host_id\"].nunique()/var_total_hosts*100]).T.unstack(1).round(2)#.sort_values(by=\"Entire home/apt\", axis=1, ascending=False)#.astype(str)+\"%\""
   ]
  },
  {
   "cell_type": "code",
   "execution_count": 17,
   "metadata": {},
   "outputs": [
    {
     "data": {
      "text/html": [
       "<div>\n",
       "<style scoped>\n",
       "    .dataframe tbody tr th:only-of-type {\n",
       "        vertical-align: middle;\n",
       "    }\n",
       "\n",
       "    .dataframe tbody tr th {\n",
       "        vertical-align: top;\n",
       "    }\n",
       "\n",
       "    .dataframe thead tr th {\n",
       "        text-align: left;\n",
       "    }\n",
       "\n",
       "    .dataframe thead tr:last-of-type th {\n",
       "        text-align: right;\n",
       "    }\n",
       "</style>\n",
       "<table border=\"1\" class=\"dataframe\">\n",
       "  <thead>\n",
       "    <tr>\n",
       "      <th></th>\n",
       "      <th colspan=\"5\" halign=\"left\">host_id</th>\n",
       "    </tr>\n",
       "    <tr>\n",
       "      <th>neighbourhood_group</th>\n",
       "      <th>Bronx</th>\n",
       "      <th>Brooklyn</th>\n",
       "      <th>Manhattan</th>\n",
       "      <th>Queens</th>\n",
       "      <th>Staten Island</th>\n",
       "    </tr>\n",
       "    <tr>\n",
       "      <th>room_type</th>\n",
       "      <th></th>\n",
       "      <th></th>\n",
       "      <th></th>\n",
       "      <th></th>\n",
       "      <th></th>\n",
       "    </tr>\n",
       "  </thead>\n",
       "  <tbody>\n",
       "    <tr>\n",
       "      <th>Entire home/apt</th>\n",
       "      <td>0.86%</td>\n",
       "      <td>23.1%</td>\n",
       "      <td>28.22%</td>\n",
       "      <td>4.94%</td>\n",
       "      <td>0.41%</td>\n",
       "    </tr>\n",
       "    <tr>\n",
       "      <th>Private room</th>\n",
       "      <td>1.23%</td>\n",
       "      <td>20.67%</td>\n",
       "      <td>16.63%</td>\n",
       "      <td>5.88%</td>\n",
       "      <td>0.3%</td>\n",
       "    </tr>\n",
       "    <tr>\n",
       "      <th>Shared room</th>\n",
       "      <td>0.11%</td>\n",
       "      <td>0.62%</td>\n",
       "      <td>0.92%</td>\n",
       "      <td>0.34%</td>\n",
       "      <td>0.02%</td>\n",
       "    </tr>\n",
       "    <tr>\n",
       "      <th>Total</th>\n",
       "      <td>2.2%</td>\n",
       "      <td>44.39%</td>\n",
       "      <td>45.77%</td>\n",
       "      <td>11.16%</td>\n",
       "      <td>0.73%</td>\n",
       "    </tr>\n",
       "  </tbody>\n",
       "</table>\n",
       "</div>"
      ],
      "text/plain": [
       "                    host_id                                         \n",
       "neighbourhood_group   Bronx Brooklyn Manhattan  Queens Staten Island\n",
       "room_type                                                           \n",
       "Entire home/apt       0.86%    23.1%    28.22%   4.94%         0.41%\n",
       "Private room          1.23%   20.67%    16.63%   5.88%          0.3%\n",
       "Shared room           0.11%    0.62%     0.92%   0.34%         0.02%\n",
       "Total                  2.2%   44.39%    45.77%  11.16%         0.73%"
      ]
     },
     "execution_count": 17,
     "metadata": {},
     "output_type": "execute_result"
    }
   ],
   "source": [
    "#https://stackoverflow.com/questions/21752399/pandas-dataframe-total-row\n",
    "df_counts_by_neighbour_group.loc[\"Total\",:] = df_counts_by_neighbour_group.sum(axis=0)\n",
    "# df_counts_by_neighbour_group.loc[:,\"Total\"] = df_counts_by_neighbour_group.sum(axis=1)\n",
    "df_counts_by_neighbour_group\n",
    "df_counts_by_neighbour_group.round(2).astype(str)+\"%\"\n",
    "#Note -- here Sum of Row Total % is more than 100%.. this is because of rounding"
   ]
  },
  {
   "cell_type": "markdown",
   "metadata": {},
   "source": [
    "# As data shows, more than 85% of accomodations are in either Manhattan or at Brooklyn"
   ]
  },
  {
   "cell_type": "code",
   "execution_count": 18,
   "metadata": {},
   "outputs": [],
   "source": [
    "pie_arch = []\n",
    "pie_arch_value = []\n",
    "\n",
    "for row in (df_counts_by_neighbour_group.loc[\"Total\",:]):\n",
    "    pie_arch_value.append((row))\n",
    "    \n",
    "for index1, index2 in df_counts_by_neighbour_group.loc[\"Total\",:].index:\n",
    "    pie_arch.append(index2)\n",
    "    \n",
    "colors = [\"yellow\", \"green\", \"lightblue\", \"orange\"]\n",
    "# pie_arch_value"
   ]
  },
  {
   "cell_type": "code",
   "execution_count": 19,
   "metadata": {},
   "outputs": [
    {
     "data": {
      "text/plain": [
       "([<matplotlib.patches.Wedge at 0xa3260f0>,\n",
       "  <matplotlib.patches.Wedge at 0xa326550>,\n",
       "  <matplotlib.patches.Wedge at 0xa326a90>,\n",
       "  <matplotlib.patches.Wedge at 0xbc65030>,\n",
       "  <matplotlib.patches.Wedge at 0xa319f90>],\n",
       " [Text(-1.1420063231987836, 1.190933061835969, 'Bronx'),\n",
       "  Text(-1.364007243276508, -0.9284310638325398, 'Brooklyn'),\n",
       "  Text(1.6253627244673263, 0.2840704382933055, 'Manhattan'),\n",
       "  Text(-0.5156276888769752, 1.5673634187588372, 'Queens'),\n",
       "  Text(-1.0325390170860538, 1.2869977382244955, 'Staten Island')],\n",
       " [Text(-0.6229125399266091, 0.6495998519105284, '2.11%'),\n",
       "  Text(-0.7440039508780951, -0.506416943908658, '42.58%'),\n",
       "  Text(0.8865614860730869, 0.15494751179634844, '43.90%'),\n",
       "  Text(-0.28125146666016826, 0.8549255011411837, '10.71%'),\n",
       "  Text(-0.5632031002287564, 0.70199876630427, '0.70%')])"
      ]
     },
     "execution_count": 19,
     "metadata": {},
     "output_type": "execute_result"
    },
    {
     "data": {
      "image/png": "[encoded data removed]",
      "text/plain": [
       "<Figure size 432x288 with 1 Axes>"
      ]
     },
     "metadata": {},
     "output_type": "display_data"
    }
   ],
   "source": [
    "plt.pie(pie_arch_value, labels = pie_arch, colors = colors, autopct=\"%.2f%%\", shadow=True, startangle=130, radius=1.5)"
   ]
  },
  {
   "cell_type": "markdown",
   "metadata": {},
   "source": [
    "# So, what are average accomodation prices by Neighbourhood Group?"
   ]
  },
  {
   "cell_type": "code",
   "execution_count": 20,
   "metadata": {},
   "outputs": [],
   "source": [
    "df_avg_price_by_neighbour_group = pd.DataFrame([df_ny_air_bnb.groupby([\"room_type\",\"neighbourhood_group\"])[\"price\"].mean()]).T.unstack(1).round(2)#.sort_values(by=\"Entire home/apt\", axis=1, ascending=False)#.astype(str)+\"%\""
   ]
  },
  {
   "cell_type": "code",
   "execution_count": 21,
   "metadata": {},
   "outputs": [
    {
     "data": {
      "text/html": [
       "<div>\n",
       "<style scoped>\n",
       "    .dataframe tbody tr th:only-of-type {\n",
       "        vertical-align: middle;\n",
       "    }\n",
       "\n",
       "    .dataframe tbody tr th {\n",
       "        vertical-align: top;\n",
       "    }\n",
       "\n",
       "    .dataframe thead tr th {\n",
       "        text-align: left;\n",
       "    }\n",
       "\n",
       "    .dataframe thead tr:last-of-type th {\n",
       "        text-align: right;\n",
       "    }\n",
       "</style>\n",
       "<table border=\"1\" class=\"dataframe\">\n",
       "  <thead>\n",
       "    <tr>\n",
       "      <th></th>\n",
       "      <th colspan=\"5\" halign=\"left\">price</th>\n",
       "    </tr>\n",
       "    <tr>\n",
       "      <th>neighbourhood_group</th>\n",
       "      <th>Bronx</th>\n",
       "      <th>Brooklyn</th>\n",
       "      <th>Manhattan</th>\n",
       "      <th>Queens</th>\n",
       "      <th>Staten Island</th>\n",
       "    </tr>\n",
       "    <tr>\n",
       "      <th>room_type</th>\n",
       "      <th></th>\n",
       "      <th></th>\n",
       "      <th></th>\n",
       "      <th></th>\n",
       "      <th></th>\n",
       "    </tr>\n",
       "  </thead>\n",
       "  <tbody>\n",
       "    <tr>\n",
       "      <th>Entire home/apt</th>\n",
       "      <td>127.65</td>\n",
       "      <td>178.36</td>\n",
       "      <td>249.24</td>\n",
       "      <td>147.05</td>\n",
       "      <td>173.85</td>\n",
       "    </tr>\n",
       "    <tr>\n",
       "      <th>Private room</th>\n",
       "      <td>66.79</td>\n",
       "      <td>76.51</td>\n",
       "      <td>116.81</td>\n",
       "      <td>71.78</td>\n",
       "      <td>62.29</td>\n",
       "    </tr>\n",
       "    <tr>\n",
       "      <th>Shared room</th>\n",
       "      <td>58.61</td>\n",
       "      <td>50.53</td>\n",
       "      <td>88.98</td>\n",
       "      <td>69.02</td>\n",
       "      <td>57.44</td>\n",
       "    </tr>\n",
       "    <tr>\n",
       "      <th>Total</th>\n",
       "      <td>253.05</td>\n",
       "      <td>305.40</td>\n",
       "      <td>455.03</td>\n",
       "      <td>287.85</td>\n",
       "      <td>293.58</td>\n",
       "    </tr>\n",
       "  </tbody>\n",
       "</table>\n",
       "</div>"
      ],
      "text/plain": [
       "                      price                                         \n",
       "neighbourhood_group   Bronx Brooklyn Manhattan  Queens Staten Island\n",
       "room_type                                                           \n",
       "Entire home/apt      127.65   178.36    249.24  147.05        173.85\n",
       "Private room          66.79    76.51    116.81   71.78         62.29\n",
       "Shared room           58.61    50.53     88.98   69.02         57.44\n",
       "Total                253.05   305.40    455.03  287.85        293.58"
      ]
     },
     "execution_count": 21,
     "metadata": {},
     "output_type": "execute_result"
    }
   ],
   "source": [
    "df_avg_price_by_neighbour_group.loc[\"Total\",:] = df_avg_price_by_neighbour_group.sum(axis=0)\n",
    "df_avg_price_by_neighbour_group"
   ]
  },
  {
   "cell_type": "code",
   "execution_count": 22,
   "metadata": {},
   "outputs": [],
   "source": [
    "x_axis = []\n",
    "for index1, index2 in df_avg_price_by_neighbour_group.iloc[3,0:5].index:\n",
    "    x_axis.append(index2)\n",
    "#     print(index2)"
   ]
  },
  {
   "cell_type": "code",
   "execution_count": 23,
   "metadata": {},
   "outputs": [],
   "source": [
    "y_entire_home = []\n",
    "for val in (df_avg_price_by_neighbour_group.iloc[0,0:5]):\n",
    "    y_entire_home.append(val)\n",
    "\n",
    "y_entire_home = np.array(y_entire_home)\n",
    "    \n",
    "y_private_room = []\n",
    "for val in (df_avg_price_by_neighbour_group.iloc[1,0:5]):\n",
    "    y_private_room.append(val)\n",
    "    \n",
    "y_private_room = np.array(y_private_room)\n",
    "\n",
    "y_shared_room = []\n",
    "for val in (df_avg_price_by_neighbour_group.iloc[2,0:5]):\n",
    "    y_shared_room.append(val)\n",
    " \n",
    "y_shared_room = np.array(y_shared_room)"
   ]
  },
  {
   "cell_type": "code",
   "execution_count": 24,
   "metadata": {},
   "outputs": [],
   "source": [
    "ind = [x for x, _ in enumerate(x_axis)]"
   ]
  },
  {
   "cell_type": "markdown",
   "metadata": {},
   "source": [
    "# As data shows, Average Accomodation prices for Entire Home in Manhattan is almost double than any other heighbourhood group"
   ]
  },
  {
   "cell_type": "code",
   "execution_count": 25,
   "metadata": {},
   "outputs": [
    {
     "data": {
      "text/plain": [
       "Text(0.5, 1.0, 'Average Price By Neighbourhood Group')"
      ]
     },
     "execution_count": 25,
     "metadata": {},
     "output_type": "execute_result"
    },
    {
     "data": {
      "image/png": "[encoded data removed]",
      "text/plain": [
       "<Figure size 432x288 with 1 Axes>"
      ]
     },
     "metadata": {
      "needs_background": "light"
     },
     "output_type": "display_data"
    }
   ],
   "source": [
    "# http://benalexkeen.com/bar-charts-in-matplotlib/\n",
    "plt.bar(ind, y_entire_home, width=0.8, label='Entire Home', color='gold', bottom=y_private_room+y_shared_room)\n",
    "plt.bar(ind, y_private_room, width=0.8, label='Private Room', color='silver', bottom=y_shared_room)\n",
    "plt.bar(ind, y_shared_room, width=0.8, label='Shared Room', color='#CD853F')\n",
    "plt.xticks(ind, x_axis)\n",
    "plt.ylabel(\"Average Price In $\")\n",
    "plt.xlabel(\"Neighbourhood Groups\")\n",
    "plt.legend(loc=\"upper right\")\n",
    "plt.title(\"Average Price By Neighbourhood Group\")"
   ]
  },
  {
   "cell_type": "markdown",
   "metadata": {},
   "source": [
    "# So, how about the neighbourhoods in Manhattan or Brooklyn?"
   ]
  },
  {
   "cell_type": "code",
   "execution_count": 26,
   "metadata": {},
   "outputs": [],
   "source": [
    "#https://pandas.pydata.org/pandas-docs/stable/reference/api/pandas.DataFrame.transpose.html\n",
    "#https://pandas.pydata.org/pandas-docs/stable/user_guide/reshaping.html\n",
    "df_neighbourhood_in_Manhattan = pd.DataFrame(df_ny_air_bnb.loc[df_ny_air_bnb[\"neighbourhood_group\"]==\"Manhattan\",:].groupby(\"neighbourhood\")[\"host_id\"].nunique()).sort_values(by=\"host_id\", axis=0, ascending=False).round(2)\n",
    "df_neighbourhood_in_Manhattan_Temp = pd.DataFrame(df_ny_air_bnb.loc[df_ny_air_bnb[\"neighbourhood_group\"]==\"Manhattan\",:].groupby(\"neighbourhood\")[\"price\"].mean())"
   ]
  },
  {
   "cell_type": "code",
   "execution_count": 27,
   "metadata": {},
   "outputs": [],
   "source": [
    "#https://www.datacamp.com/community/tutorials/joining-dataframes-pandas\n",
    "df_neighbourhood_in_Manhattan_count_price = pd.merge(df_neighbourhood_in_Manhattan, df_neighbourhood_in_Manhattan_Temp, on=\"neighbourhood\")"
   ]
  },
  {
   "cell_type": "code",
   "execution_count": 28,
   "metadata": {},
   "outputs": [
    {
     "data": {
      "text/html": [
       "<div>\n",
       "<style scoped>\n",
       "    .dataframe tbody tr th:only-of-type {\n",
       "        vertical-align: middle;\n",
       "    }\n",
       "\n",
       "    .dataframe tbody tr th {\n",
       "        vertical-align: top;\n",
       "    }\n",
       "\n",
       "    .dataframe thead th {\n",
       "        text-align: right;\n",
       "    }\n",
       "</style>\n",
       "<table border=\"1\" class=\"dataframe\">\n",
       "  <thead>\n",
       "    <tr style=\"text-align: right;\">\n",
       "      <th></th>\n",
       "      <th>neighbourhood</th>\n",
       "      <th>host_id</th>\n",
       "      <th>price</th>\n",
       "    </tr>\n",
       "  </thead>\n",
       "  <tbody>\n",
       "    <tr>\n",
       "      <th>0</th>\n",
       "      <td>Harlem</td>\n",
       "      <td>2113</td>\n",
       "      <td>118.952542</td>\n",
       "    </tr>\n",
       "    <tr>\n",
       "      <th>1</th>\n",
       "      <td>East Village</td>\n",
       "      <td>1619</td>\n",
       "      <td>186.075594</td>\n",
       "    </tr>\n",
       "    <tr>\n",
       "      <th>2</th>\n",
       "      <td>Upper West Side</td>\n",
       "      <td>1587</td>\n",
       "      <td>210.990350</td>\n",
       "    </tr>\n",
       "    <tr>\n",
       "      <th>3</th>\n",
       "      <td>Upper East Side</td>\n",
       "      <td>1408</td>\n",
       "      <td>188.872565</td>\n",
       "    </tr>\n",
       "    <tr>\n",
       "      <th>4</th>\n",
       "      <td>Hell's Kitchen</td>\n",
       "      <td>1360</td>\n",
       "      <td>204.931934</td>\n",
       "    </tr>\n",
       "    <tr>\n",
       "      <th>5</th>\n",
       "      <td>Midtown</td>\n",
       "      <td>980</td>\n",
       "      <td>282.719094</td>\n",
       "    </tr>\n",
       "    <tr>\n",
       "      <th>6</th>\n",
       "      <td>Chelsea</td>\n",
       "      <td>900</td>\n",
       "      <td>249.765288</td>\n",
       "    </tr>\n",
       "    <tr>\n",
       "      <th>7</th>\n",
       "      <td>East Harlem</td>\n",
       "      <td>894</td>\n",
       "      <td>133.193548</td>\n",
       "    </tr>\n",
       "    <tr>\n",
       "      <th>8</th>\n",
       "      <td>Lower East Side</td>\n",
       "      <td>772</td>\n",
       "      <td>186.312843</td>\n",
       "    </tr>\n",
       "    <tr>\n",
       "      <th>9</th>\n",
       "      <td>Washington Heights</td>\n",
       "      <td>761</td>\n",
       "      <td>89.665924</td>\n",
       "    </tr>\n",
       "    <tr>\n",
       "      <th>10</th>\n",
       "      <td>West Village</td>\n",
       "      <td>696</td>\n",
       "      <td>267.682292</td>\n",
       "    </tr>\n",
       "    <tr>\n",
       "      <th>11</th>\n",
       "      <td>Financial District</td>\n",
       "      <td>376</td>\n",
       "      <td>225.490591</td>\n",
       "    </tr>\n",
       "    <tr>\n",
       "      <th>12</th>\n",
       "      <td>Kips Bay</td>\n",
       "      <td>374</td>\n",
       "      <td>202.408511</td>\n",
       "    </tr>\n",
       "    <tr>\n",
       "      <th>13</th>\n",
       "      <td>Greenwich Village</td>\n",
       "      <td>363</td>\n",
       "      <td>263.503836</td>\n",
       "    </tr>\n",
       "    <tr>\n",
       "      <th>14</th>\n",
       "      <td>Chinatown</td>\n",
       "      <td>327</td>\n",
       "      <td>161.754768</td>\n",
       "    </tr>\n",
       "    <tr>\n",
       "      <th>15</th>\n",
       "      <td>Morningside Heights</td>\n",
       "      <td>309</td>\n",
       "      <td>114.783237</td>\n",
       "    </tr>\n",
       "    <tr>\n",
       "      <th>16</th>\n",
       "      <td>SoHo</td>\n",
       "      <td>301</td>\n",
       "      <td>287.103352</td>\n",
       "    </tr>\n",
       "    <tr>\n",
       "      <th>17</th>\n",
       "      <td>Gramercy</td>\n",
       "      <td>296</td>\n",
       "      <td>222.754438</td>\n",
       "    </tr>\n",
       "    <tr>\n",
       "      <th>18</th>\n",
       "      <td>Murray Hill</td>\n",
       "      <td>278</td>\n",
       "      <td>220.958763</td>\n",
       "    </tr>\n",
       "    <tr>\n",
       "      <th>19</th>\n",
       "      <td>Nolita</td>\n",
       "      <td>223</td>\n",
       "      <td>230.198413</td>\n",
       "    </tr>\n",
       "    <tr>\n",
       "      <th>20</th>\n",
       "      <td>Inwood</td>\n",
       "      <td>213</td>\n",
       "      <td>88.896825</td>\n",
       "    </tr>\n",
       "    <tr>\n",
       "      <th>21</th>\n",
       "      <td>Theater District</td>\n",
       "      <td>140</td>\n",
       "      <td>248.013889</td>\n",
       "    </tr>\n",
       "    <tr>\n",
       "      <th>22</th>\n",
       "      <td>Tribeca</td>\n",
       "      <td>137</td>\n",
       "      <td>490.638418</td>\n",
       "    </tr>\n",
       "    <tr>\n",
       "      <th>23</th>\n",
       "      <td>Little Italy</td>\n",
       "      <td>98</td>\n",
       "      <td>222.066116</td>\n",
       "    </tr>\n",
       "    <tr>\n",
       "      <th>24</th>\n",
       "      <td>Flatiron District</td>\n",
       "      <td>77</td>\n",
       "      <td>341.925000</td>\n",
       "    </tr>\n",
       "    <tr>\n",
       "      <th>25</th>\n",
       "      <td>Roosevelt Island</td>\n",
       "      <td>68</td>\n",
       "      <td>113.259740</td>\n",
       "    </tr>\n",
       "    <tr>\n",
       "      <th>26</th>\n",
       "      <td>NoHo</td>\n",
       "      <td>66</td>\n",
       "      <td>295.717949</td>\n",
       "    </tr>\n",
       "    <tr>\n",
       "      <th>27</th>\n",
       "      <td>Two Bridges</td>\n",
       "      <td>64</td>\n",
       "      <td>127.069444</td>\n",
       "    </tr>\n",
       "    <tr>\n",
       "      <th>28</th>\n",
       "      <td>Battery Park City</td>\n",
       "      <td>61</td>\n",
       "      <td>367.086957</td>\n",
       "    </tr>\n",
       "    <tr>\n",
       "      <th>29</th>\n",
       "      <td>Civic Center</td>\n",
       "      <td>50</td>\n",
       "      <td>191.942308</td>\n",
       "    </tr>\n",
       "    <tr>\n",
       "      <th>30</th>\n",
       "      <td>Stuyvesant Town</td>\n",
       "      <td>36</td>\n",
       "      <td>169.108108</td>\n",
       "    </tr>\n",
       "    <tr>\n",
       "      <th>31</th>\n",
       "      <td>Marble Hill</td>\n",
       "      <td>10</td>\n",
       "      <td>89.166667</td>\n",
       "    </tr>\n",
       "  </tbody>\n",
       "</table>\n",
       "</div>"
      ],
      "text/plain": [
       "          neighbourhood  host_id       price\n",
       "0                Harlem     2113  118.952542\n",
       "1          East Village     1619  186.075594\n",
       "2       Upper West Side     1587  210.990350\n",
       "3       Upper East Side     1408  188.872565\n",
       "4        Hell's Kitchen     1360  204.931934\n",
       "5               Midtown      980  282.719094\n",
       "6               Chelsea      900  249.765288\n",
       "7           East Harlem      894  133.193548\n",
       "8       Lower East Side      772  186.312843\n",
       "9    Washington Heights      761   89.665924\n",
       "10         West Village      696  267.682292\n",
       "11   Financial District      376  225.490591\n",
       "12             Kips Bay      374  202.408511\n",
       "13    Greenwich Village      363  263.503836\n",
       "14            Chinatown      327  161.754768\n",
       "15  Morningside Heights      309  114.783237\n",
       "16                 SoHo      301  287.103352\n",
       "17             Gramercy      296  222.754438\n",
       "18          Murray Hill      278  220.958763\n",
       "19               Nolita      223  230.198413\n",
       "20               Inwood      213   88.896825\n",
       "21     Theater District      140  248.013889\n",
       "22              Tribeca      137  490.638418\n",
       "23         Little Italy       98  222.066116\n",
       "24    Flatiron District       77  341.925000\n",
       "25     Roosevelt Island       68  113.259740\n",
       "26                 NoHo       66  295.717949\n",
       "27          Two Bridges       64  127.069444\n",
       "28    Battery Park City       61  367.086957\n",
       "29         Civic Center       50  191.942308\n",
       "30      Stuyvesant Town       36  169.108108\n",
       "31          Marble Hill       10   89.166667"
      ]
     },
     "execution_count": 28,
     "metadata": {},
     "output_type": "execute_result"
    }
   ],
   "source": [
    "df_neighbourhood_in_Manhattan_count_price = df_neighbourhood_in_Manhattan_count_price.reset_index()\n",
    "df_neighbourhood_in_Manhattan_count_price"
   ]
  },
  {
   "cell_type": "markdown",
   "metadata": {},
   "source": [
    "# As data shows, in Manhattan - most of the accomodations are concentrated in 10 neighbourhoods"
   ]
  },
  {
   "cell_type": "code",
   "execution_count": 29,
   "metadata": {},
   "outputs": [
    {
     "name": "stderr",
     "output_type": "stream",
     "text": [
      "No handles with labels found to put in legend.\n"
     ]
    },
    {
     "data": {
      "text/plain": [
       "Text(0.5, 1.0, 'No. of AirBnB Accomodations by Neighbourhood in Manhattan')"
      ]
     },
     "execution_count": 29,
     "metadata": {},
     "output_type": "execute_result"
    },
    {
     "data": {
      "image/png": "[encoded data removed]",
      "text/plain": [
       "<Figure size 1080x360 with 1 Axes>"
      ]
     },
     "metadata": {
      "needs_background": "light"
     },
     "output_type": "display_data"
    }
   ],
   "source": [
    "plt.figure(figsize=(15,5))\n",
    "ax = plt.plot(df_neighbourhood_in_Manhattan_count_price.iloc[0:15:,0]\n",
    "            , df_neighbourhood_in_Manhattan_count_price.iloc[0:15:,1]\n",
    "         ,color='orange', marker='o', linestyle='dashed', linewidth=1, markersize=5)\n",
    "plt.xticks(rotation=40)\n",
    "plt.grid()\n",
    "plt.ylabel(\"Neighbourhood in Manhattan\")\n",
    "plt.xlabel(\"No Of Air BnB Accomodations\")\n",
    "plt.legend(loc=\"upper right\")\n",
    "plt.title(\"No. of AirBnB Accomodations by Neighbourhood in Manhattan\")"
   ]
  },
  {
   "cell_type": "markdown",
   "metadata": {},
   "source": [
    "# In Brooklyn as well, most of the accomodations are concentrated in 10 neighbourhoods"
   ]
  },
  {
   "cell_type": "code",
   "execution_count": 30,
   "metadata": {},
   "outputs": [],
   "source": [
    "df_neighbourhood_in_Brooklyn = pd.DataFrame(df_ny_air_bnb.loc[df_ny_air_bnb[\"neighbourhood_group\"]==\"Brooklyn\",:].groupby(\"neighbourhood\")[\"host_id\"].nunique()).sort_values(by=\"host_id\", axis=0, ascending=False).round(2)\n",
    "df_neighbourhood_in_Brooklyn_Temp = pd.DataFrame(df_ny_air_bnb.loc[df_ny_air_bnb[\"neighbourhood_group\"]==\"Brooklyn\",:].groupby(\"neighbourhood\")[\"price\"].mean())"
   ]
  },
  {
   "cell_type": "code",
   "execution_count": 31,
   "metadata": {},
   "outputs": [],
   "source": [
    "df_neighbourhood_in_Brooklyn_count_price = pd.merge(df_neighbourhood_in_Brooklyn, df_neighbourhood_in_Brooklyn_Temp, on=\"neighbourhood\")"
   ]
  },
  {
   "cell_type": "code",
   "execution_count": 32,
   "metadata": {},
   "outputs": [
    {
     "data": {
      "text/html": [
       "<div>\n",
       "<style scoped>\n",
       "    .dataframe tbody tr th:only-of-type {\n",
       "        vertical-align: middle;\n",
       "    }\n",
       "\n",
       "    .dataframe tbody tr th {\n",
       "        vertical-align: top;\n",
       "    }\n",
       "\n",
       "    .dataframe thead th {\n",
       "        text-align: right;\n",
       "    }\n",
       "</style>\n",
       "<table border=\"1\" class=\"dataframe\">\n",
       "  <thead>\n",
       "    <tr style=\"text-align: right;\">\n",
       "      <th></th>\n",
       "      <th>neighbourhood</th>\n",
       "      <th>host_id</th>\n",
       "      <th>price</th>\n",
       "    </tr>\n",
       "  </thead>\n",
       "  <tbody>\n",
       "    <tr>\n",
       "      <th>0</th>\n",
       "      <td>Williamsburg</td>\n",
       "      <td>3369</td>\n",
       "      <td>143.826142</td>\n",
       "    </tr>\n",
       "    <tr>\n",
       "      <th>1</th>\n",
       "      <td>Bedford-Stuyvesant</td>\n",
       "      <td>2779</td>\n",
       "      <td>107.688392</td>\n",
       "    </tr>\n",
       "    <tr>\n",
       "      <th>2</th>\n",
       "      <td>Bushwick</td>\n",
       "      <td>1892</td>\n",
       "      <td>84.815597</td>\n",
       "    </tr>\n",
       "    <tr>\n",
       "      <th>3</th>\n",
       "      <td>Crown Heights</td>\n",
       "      <td>1298</td>\n",
       "      <td>112.520154</td>\n",
       "    </tr>\n",
       "    <tr>\n",
       "      <th>4</th>\n",
       "      <td>Greenpoint</td>\n",
       "      <td>875</td>\n",
       "      <td>144.858041</td>\n",
       "    </tr>\n",
       "    <tr>\n",
       "      <th>5</th>\n",
       "      <td>Flatbush</td>\n",
       "      <td>519</td>\n",
       "      <td>92.260097</td>\n",
       "    </tr>\n",
       "    <tr>\n",
       "      <th>6</th>\n",
       "      <td>Clinton Hill</td>\n",
       "      <td>492</td>\n",
       "      <td>181.893357</td>\n",
       "    </tr>\n",
       "    <tr>\n",
       "      <th>7</th>\n",
       "      <td>Park Slope</td>\n",
       "      <td>462</td>\n",
       "      <td>176.312253</td>\n",
       "    </tr>\n",
       "    <tr>\n",
       "      <th>8</th>\n",
       "      <td>Prospect-Lefferts Gardens</td>\n",
       "      <td>443</td>\n",
       "      <td>110.401869</td>\n",
       "    </tr>\n",
       "    <tr>\n",
       "      <th>9</th>\n",
       "      <td>Fort Greene</td>\n",
       "      <td>406</td>\n",
       "      <td>151.374233</td>\n",
       "    </tr>\n",
       "    <tr>\n",
       "      <th>10</th>\n",
       "      <td>East Flatbush</td>\n",
       "      <td>321</td>\n",
       "      <td>104.269076</td>\n",
       "    </tr>\n",
       "    <tr>\n",
       "      <th>11</th>\n",
       "      <td>Prospect Heights</td>\n",
       "      <td>312</td>\n",
       "      <td>173.372549</td>\n",
       "    </tr>\n",
       "    <tr>\n",
       "      <th>12</th>\n",
       "      <td>Sunset Park</td>\n",
       "      <td>309</td>\n",
       "      <td>113.041026</td>\n",
       "    </tr>\n",
       "    <tr>\n",
       "      <th>13</th>\n",
       "      <td>South Slope</td>\n",
       "      <td>243</td>\n",
       "      <td>146.725352</td>\n",
       "    </tr>\n",
       "    <tr>\n",
       "      <th>14</th>\n",
       "      <td>Carroll Gardens</td>\n",
       "      <td>208</td>\n",
       "      <td>175.914163</td>\n",
       "    </tr>\n",
       "    <tr>\n",
       "      <th>15</th>\n",
       "      <td>Gowanus</td>\n",
       "      <td>202</td>\n",
       "      <td>158.801619</td>\n",
       "    </tr>\n",
       "    <tr>\n",
       "      <th>16</th>\n",
       "      <td>Boerum Hill</td>\n",
       "      <td>156</td>\n",
       "      <td>176.135593</td>\n",
       "    </tr>\n",
       "    <tr>\n",
       "      <th>17</th>\n",
       "      <td>Brooklyn Heights</td>\n",
       "      <td>148</td>\n",
       "      <td>209.064935</td>\n",
       "    </tr>\n",
       "    <tr>\n",
       "      <th>18</th>\n",
       "      <td>Kensington</td>\n",
       "      <td>143</td>\n",
       "      <td>92.885714</td>\n",
       "    </tr>\n",
       "    <tr>\n",
       "      <th>19</th>\n",
       "      <td>Windsor Terrace</td>\n",
       "      <td>135</td>\n",
       "      <td>138.993631</td>\n",
       "    </tr>\n",
       "    <tr>\n",
       "      <th>20</th>\n",
       "      <td>East New York</td>\n",
       "      <td>129</td>\n",
       "      <td>85.426606</td>\n",
       "    </tr>\n",
       "    <tr>\n",
       "      <th>21</th>\n",
       "      <td>Sheepshead Bay</td>\n",
       "      <td>117</td>\n",
       "      <td>105.774390</td>\n",
       "    </tr>\n",
       "    <tr>\n",
       "      <th>22</th>\n",
       "      <td>Bay Ridge</td>\n",
       "      <td>113</td>\n",
       "      <td>144.432624</td>\n",
       "    </tr>\n",
       "    <tr>\n",
       "      <th>23</th>\n",
       "      <td>Canarsie</td>\n",
       "      <td>100</td>\n",
       "      <td>104.367347</td>\n",
       "    </tr>\n",
       "    <tr>\n",
       "      <th>24</th>\n",
       "      <td>Midwood</td>\n",
       "      <td>95</td>\n",
       "      <td>80.339450</td>\n",
       "    </tr>\n",
       "    <tr>\n",
       "      <th>25</th>\n",
       "      <td>Cobble Hill</td>\n",
       "      <td>93</td>\n",
       "      <td>211.929293</td>\n",
       "    </tr>\n",
       "    <tr>\n",
       "      <th>26</th>\n",
       "      <td>Cypress Hills</td>\n",
       "      <td>91</td>\n",
       "      <td>128.903704</td>\n",
       "    </tr>\n",
       "    <tr>\n",
       "      <th>27</th>\n",
       "      <td>Downtown Brooklyn</td>\n",
       "      <td>78</td>\n",
       "      <td>150.349398</td>\n",
       "    </tr>\n",
       "    <tr>\n",
       "      <th>28</th>\n",
       "      <td>Borough Park</td>\n",
       "      <td>74</td>\n",
       "      <td>63.066176</td>\n",
       "    </tr>\n",
       "    <tr>\n",
       "      <th>29</th>\n",
       "      <td>Red Hook</td>\n",
       "      <td>73</td>\n",
       "      <td>143.455696</td>\n",
       "    </tr>\n",
       "    <tr>\n",
       "      <th>30</th>\n",
       "      <td>Flatlands</td>\n",
       "      <td>65</td>\n",
       "      <td>126.433735</td>\n",
       "    </tr>\n",
       "    <tr>\n",
       "      <th>31</th>\n",
       "      <td>Brighton Beach</td>\n",
       "      <td>59</td>\n",
       "      <td>131.933333</td>\n",
       "    </tr>\n",
       "    <tr>\n",
       "      <th>32</th>\n",
       "      <td>Bensonhurst</td>\n",
       "      <td>55</td>\n",
       "      <td>75.786667</td>\n",
       "    </tr>\n",
       "    <tr>\n",
       "      <th>33</th>\n",
       "      <td>Fort Hamilton</td>\n",
       "      <td>48</td>\n",
       "      <td>93.818182</td>\n",
       "    </tr>\n",
       "    <tr>\n",
       "      <th>34</th>\n",
       "      <td>Brownsville</td>\n",
       "      <td>47</td>\n",
       "      <td>76.900000</td>\n",
       "    </tr>\n",
       "    <tr>\n",
       "      <th>35</th>\n",
       "      <td>Gravesend</td>\n",
       "      <td>43</td>\n",
       "      <td>79.014706</td>\n",
       "    </tr>\n",
       "    <tr>\n",
       "      <th>36</th>\n",
       "      <td>Columbia St</td>\n",
       "      <td>38</td>\n",
       "      <td>162.952381</td>\n",
       "    </tr>\n",
       "    <tr>\n",
       "      <th>37</th>\n",
       "      <td>Vinegar Hill</td>\n",
       "      <td>32</td>\n",
       "      <td>187.176471</td>\n",
       "    </tr>\n",
       "    <tr>\n",
       "      <th>38</th>\n",
       "      <td>DUMBO</td>\n",
       "      <td>32</td>\n",
       "      <td>196.305556</td>\n",
       "    </tr>\n",
       "    <tr>\n",
       "      <th>39</th>\n",
       "      <td>Navy Yard</td>\n",
       "      <td>14</td>\n",
       "      <td>151.642857</td>\n",
       "    </tr>\n",
       "    <tr>\n",
       "      <th>40</th>\n",
       "      <td>Bath Beach</td>\n",
       "      <td>13</td>\n",
       "      <td>81.764706</td>\n",
       "    </tr>\n",
       "    <tr>\n",
       "      <th>41</th>\n",
       "      <td>Bergen Beach</td>\n",
       "      <td>10</td>\n",
       "      <td>106.700000</td>\n",
       "    </tr>\n",
       "    <tr>\n",
       "      <th>42</th>\n",
       "      <td>Dyker Heights</td>\n",
       "      <td>10</td>\n",
       "      <td>93.416667</td>\n",
       "    </tr>\n",
       "    <tr>\n",
       "      <th>43</th>\n",
       "      <td>Coney Island</td>\n",
       "      <td>10</td>\n",
       "      <td>123.705882</td>\n",
       "    </tr>\n",
       "    <tr>\n",
       "      <th>44</th>\n",
       "      <td>Manhattan Beach</td>\n",
       "      <td>7</td>\n",
       "      <td>103.500000</td>\n",
       "    </tr>\n",
       "    <tr>\n",
       "      <th>45</th>\n",
       "      <td>Sea Gate</td>\n",
       "      <td>5</td>\n",
       "      <td>487.857143</td>\n",
       "    </tr>\n",
       "    <tr>\n",
       "      <th>46</th>\n",
       "      <td>Mill Basin</td>\n",
       "      <td>4</td>\n",
       "      <td>179.750000</td>\n",
       "    </tr>\n",
       "  </tbody>\n",
       "</table>\n",
       "</div>"
      ],
      "text/plain": [
       "                neighbourhood  host_id       price\n",
       "0                Williamsburg     3369  143.826142\n",
       "1          Bedford-Stuyvesant     2779  107.688392\n",
       "2                    Bushwick     1892   84.815597\n",
       "3               Crown Heights     1298  112.520154\n",
       "4                  Greenpoint      875  144.858041\n",
       "5                    Flatbush      519   92.260097\n",
       "6                Clinton Hill      492  181.893357\n",
       "7                  Park Slope      462  176.312253\n",
       "8   Prospect-Lefferts Gardens      443  110.401869\n",
       "9                 Fort Greene      406  151.374233\n",
       "10              East Flatbush      321  104.269076\n",
       "11           Prospect Heights      312  173.372549\n",
       "12                Sunset Park      309  113.041026\n",
       "13                South Slope      243  146.725352\n",
       "14            Carroll Gardens      208  175.914163\n",
       "15                    Gowanus      202  158.801619\n",
       "16                Boerum Hill      156  176.135593\n",
       "17           Brooklyn Heights      148  209.064935\n",
       "18                 Kensington      143   92.885714\n",
       "19            Windsor Terrace      135  138.993631\n",
       "20              East New York      129   85.426606\n",
       "21             Sheepshead Bay      117  105.774390\n",
       "22                  Bay Ridge      113  144.432624\n",
       "23                   Canarsie      100  104.367347\n",
       "24                    Midwood       95   80.339450\n",
       "25                Cobble Hill       93  211.929293\n",
       "26              Cypress Hills       91  128.903704\n",
       "27          Downtown Brooklyn       78  150.349398\n",
       "28               Borough Park       74   63.066176\n",
       "29                   Red Hook       73  143.455696\n",
       "30                  Flatlands       65  126.433735\n",
       "31             Brighton Beach       59  131.933333\n",
       "32                Bensonhurst       55   75.786667\n",
       "33              Fort Hamilton       48   93.818182\n",
       "34                Brownsville       47   76.900000\n",
       "35                  Gravesend       43   79.014706\n",
       "36                Columbia St       38  162.952381\n",
       "37               Vinegar Hill       32  187.176471\n",
       "38                      DUMBO       32  196.305556\n",
       "39                  Navy Yard       14  151.642857\n",
       "40                 Bath Beach       13   81.764706\n",
       "41               Bergen Beach       10  106.700000\n",
       "42              Dyker Heights       10   93.416667\n",
       "43               Coney Island       10  123.705882\n",
       "44            Manhattan Beach        7  103.500000\n",
       "45                   Sea Gate        5  487.857143\n",
       "46                 Mill Basin        4  179.750000"
      ]
     },
     "execution_count": 32,
     "metadata": {},
     "output_type": "execute_result"
    }
   ],
   "source": [
    "df_neighbourhood_in_Brooklyn_count_price = df_neighbourhood_in_Brooklyn_count_price.reset_index()\n",
    "df_neighbourhood_in_Brooklyn_count_price"
   ]
  },
  {
   "cell_type": "code",
   "execution_count": 33,
   "metadata": {},
   "outputs": [
    {
     "name": "stderr",
     "output_type": "stream",
     "text": [
      "No handles with labels found to put in legend.\n"
     ]
    },
    {
     "data": {
      "text/plain": [
       "Text(0.5, 1.0, 'No. of AirBnB Accomodations by Neighbourhood in Brooklyn')"
      ]
     },
     "execution_count": 33,
     "metadata": {},
     "output_type": "execute_result"
    },
    {
     "data": {
      "image/png": "[encoded data removed]",
      "text/plain": [
       "<Figure size 1080x360 with 1 Axes>"
      ]
     },
     "metadata": {
      "needs_background": "light"
     },
     "output_type": "display_data"
    }
   ],
   "source": [
    "plt.figure(figsize=(15,5))\n",
    "ax = plt.plot(df_neighbourhood_in_Brooklyn_count_price.iloc[0:15:,0]\n",
    "            , df_neighbourhood_in_Brooklyn_count_price.iloc[0:15:,1]\n",
    "         ,color='orange', marker='o', linestyle='dashed', linewidth=1, markersize=3)\n",
    "plt.xticks(rotation=40)\n",
    "plt.grid()\n",
    "plt.ylabel(\"Neighbourhood in Brooklyn\")\n",
    "plt.xlabel(\"No Of Air BnB Accomodations\")\n",
    "plt.legend(loc=\"upper right\")\n",
    "plt.title(\"No. of AirBnB Accomodations by Neighbourhood in Brooklyn\")"
   ]
  },
  {
   "cell_type": "code",
   "execution_count": 60,
   "metadata": {},
   "outputs": [
    {
     "name": "stdout",
     "output_type": "stream",
     "text": [
      "Where do you prefer to Stay? Bronx, Brooklyn, Manhattan, Queens, or Staten IslandManhattan\n"
     ]
    }
   ],
   "source": [
    "select_neighbourhood_group = input(\"Where do you prefer to Stay? Bronx, Brooklyn, Manhattan, Queens, or Staten Island\")\n",
    "if select_neighbourhood_group not in [\"Bronx\", \"Brooklyn\", \"Manhattan\", \"Queens\", \"Staten Island\"]:\n",
    "    print(\"You have entered wrong choice\")"
   ]
  },
  {
   "cell_type": "code",
   "execution_count": 61,
   "metadata": {},
   "outputs": [
    {
     "name": "stdout",
     "output_type": "stream",
     "text": [
      "Are you price conscious? Yes or NoNo\n"
     ]
    }
   ],
   "source": [
    "select_price = input(\"Are you price conscious? Yes or No\")\n",
    "if select_price not in [\"Yes\", \"No\"]:\n",
    "    print(\"You have entered wrong choice\")"
   ]
  },
  {
   "cell_type": "code",
   "execution_count": 62,
   "metadata": {},
   "outputs": [
    {
     "data": {
      "text/plain": [
       "False"
      ]
     },
     "execution_count": 62,
     "metadata": {},
     "output_type": "execute_result"
    }
   ],
   "source": [
    "my_order = True if select_price == \"Yes\" else False\n",
    "my_order"
   ]
  },
  {
   "cell_type": "code",
   "execution_count": 63,
   "metadata": {},
   "outputs": [
    {
     "data": {
      "text/html": [
       "<div>\n",
       "<style scoped>\n",
       "    .dataframe tbody tr th:only-of-type {\n",
       "        vertical-align: middle;\n",
       "    }\n",
       "\n",
       "    .dataframe tbody tr th {\n",
       "        vertical-align: top;\n",
       "    }\n",
       "\n",
       "    .dataframe thead th {\n",
       "        text-align: right;\n",
       "    }\n",
       "</style>\n",
       "<table border=\"1\" class=\"dataframe\">\n",
       "  <thead>\n",
       "    <tr style=\"text-align: right;\">\n",
       "      <th></th>\n",
       "      <th>name</th>\n",
       "      <th>latitude</th>\n",
       "      <th>longitude</th>\n",
       "      <th>host_name</th>\n",
       "      <th>neighbourhood</th>\n",
       "      <th>room_type</th>\n",
       "      <th>price</th>\n",
       "      <th>neighbourhood_group</th>\n",
       "    </tr>\n",
       "  </thead>\n",
       "  <tbody>\n",
       "    <tr>\n",
       "      <th>29238</th>\n",
       "      <td>1-BR Lincoln Center</td>\n",
       "      <td>40.77213</td>\n",
       "      <td>-73.98665</td>\n",
       "      <td>Jelena</td>\n",
       "      <td>Upper West Side</td>\n",
       "      <td>Entire home/apt</td>\n",
       "      <td>10000</td>\n",
       "      <td>Manhattan</td>\n",
       "    </tr>\n",
       "    <tr>\n",
       "      <th>40433</th>\n",
       "      <td>2br - The Heart of NYC: Manhattans Lower East ...</td>\n",
       "      <td>40.71980</td>\n",
       "      <td>-73.98566</td>\n",
       "      <td>Matt</td>\n",
       "      <td>Lower East Side</td>\n",
       "      <td>Entire home/apt</td>\n",
       "      <td>9999</td>\n",
       "      <td>Manhattan</td>\n",
       "    </tr>\n",
       "    <tr>\n",
       "      <th>12342</th>\n",
       "      <td>Quiet, Clean, Lit @ LES &amp; Chinatown</td>\n",
       "      <td>40.71355</td>\n",
       "      <td>-73.98507</td>\n",
       "      <td>Amy</td>\n",
       "      <td>Lower East Side</td>\n",
       "      <td>Private room</td>\n",
       "      <td>9999</td>\n",
       "      <td>Manhattan</td>\n",
       "    </tr>\n",
       "    <tr>\n",
       "      <th>6530</th>\n",
       "      <td>Spanish Harlem Apt</td>\n",
       "      <td>40.79264</td>\n",
       "      <td>-73.93898</td>\n",
       "      <td>Olson</td>\n",
       "      <td>East Harlem</td>\n",
       "      <td>Entire home/apt</td>\n",
       "      <td>9999</td>\n",
       "      <td>Manhattan</td>\n",
       "    </tr>\n",
       "  </tbody>\n",
       "</table>\n",
       "</div>"
      ],
      "text/plain": [
       "                                                    name  latitude  longitude  \\\n",
       "29238                                1-BR Lincoln Center  40.77213  -73.98665   \n",
       "40433  2br - The Heart of NYC: Manhattans Lower East ...  40.71980  -73.98566   \n",
       "12342                Quiet, Clean, Lit @ LES & Chinatown  40.71355  -73.98507   \n",
       "6530                                  Spanish Harlem Apt  40.79264  -73.93898   \n",
       "\n",
       "      host_name    neighbourhood        room_type  price neighbourhood_group  \n",
       "29238    Jelena  Upper West Side  Entire home/apt  10000           Manhattan  \n",
       "40433      Matt  Lower East Side  Entire home/apt   9999           Manhattan  \n",
       "12342       Amy  Lower East Side     Private room   9999           Manhattan  \n",
       "6530      Olson      East Harlem  Entire home/apt   9999           Manhattan  "
      ]
     },
     "execution_count": 63,
     "metadata": {},
     "output_type": "execute_result"
    }
   ],
   "source": [
    "df_selected_nh = df_ny_air_bnb.loc[df_ny_air_bnb[\"neighbourhood_group\"]==select_neighbourhood_group,:]\n",
    "df_google_map = df_selected_nh.sort_values(by=\"price\", axis=0, ascending=my_order).head(4).loc[:,[\"name\",\"latitude\",\"longitude\",\"host_name\",\"neighbourhood\",\"room_type\",\"price\",\"neighbourhood_group\"]]\n",
    "df_google_map"
   ]
  },
  {
   "cell_type": "code",
   "execution_count": 64,
   "metadata": {},
   "outputs": [],
   "source": [
    "coordinates = []\n",
    "for index, row in df_google_map.iterrows():    \n",
    "    coordinates.append({\n",
    "        \"name\": row[\"name\"],\n",
    "        \"host_name\": row[\"host_name\"],\n",
    "        \"room_type\": row[\"room_type\"],\n",
    "        \"price\": row[\"price\"],\n",
    "        \"neighbourhood\": row[\"neighbourhood\"],\n",
    "        \"neighbourhood_group\": row[\"neighbourhood_group\"],\n",
    "        \"location\": (row[\"latitude\"], row[\"longitude\"])\n",
    "    })    \n",
    "airbnb_locations = [loc[\"location\"] for loc in coordinates]\n",
    "info_box_template = \"\"\"\n",
    "<dl>\n",
    "<dt>Name</dt>\n",
    "<dd>{name}</dd>\n",
    "<dt>host_name</dt>\n",
    "<dd>{host_name}</dd>\n",
    "<dt>room_type</dt>\n",
    "<dd>{room_type}</dd>\n",
    "<dt>price</dt>\n",
    "<dd>{price}</dd>\n",
    "<dt>neighbourhood</dt>\n",
    "<dd>{neighbourhood}</dd>\n",
    "<dt>neighbourhood_group</dt>\n",
    "<dd>{neighbourhood_group}</dd>\n",
    "</dl>\n",
    "\"\"\"\n",
    "airbnb_info = [info_box_template.format(**loc) for loc in coordinates]\n",
    "# coordinates"
   ]
  },
  {
   "cell_type": "code",
   "execution_count": 65,
   "metadata": {},
   "outputs": [],
   "source": [
    "# Store latitude and longitude in locations\n",
    "# Customize the size of the figure\n",
    "figure_layout = {\n",
    "   'width': '900px',\n",
    "   'height': '500px',\n",
    "   'border': '1px solid black',\n",
    "   'padding': '1px',\n",
    "   'margin': '0 auto 0 auto'\n",
    "}\n",
    "# fig = gmaps.figure(layout=figure_layout, center=(40.711507, -74.013357), zoom_level=12)\n",
    "fig = gmaps.figure(layout=figure_layout, center=airbnb_locations[0], zoom_level=12)\n"
   ]
  },
  {
   "cell_type": "code",
   "execution_count": 66,
   "metadata": {},
   "outputs": [],
   "source": [
    "# https://jupyter-gmaps.readthedocs.io/en/latest/api.html\n",
    "markers = gmaps.marker_layer(airbnb_locations, info_box_content=airbnb_info)\n",
    "\n",
    "# Add the layer to the map\n",
    "fig.add_layer(markers)\n"
   ]
  },
  {
   "cell_type": "code",
   "execution_count": 67,
   "metadata": {},
   "outputs": [
    {
     "data": {
      "application/vnd.jupyter.widget-view+json": {
       "model_id": "f47190952c7641f994f94aa88ff663d4",
       "version_major": 2,
       "version_minor": 0
      },
      "text/plain": [
       "Figure(layout=FigureLayout(border='1px solid black', height='500px', margin='0 auto 0 auto', padding='1px', wi…"
      ]
     },
     "metadata": {},
     "output_type": "display_data"
    }
   ],
   "source": [
    "fig"
   ]
  },
  {
   "cell_type": "markdown",
   "metadata": {},
   "source": [
    "# To understand why Manhattan or Brooklyn is good to stay.. we fetch corresponding zip using Lat & Lon, dump that in csv and using vlookup created new xls file. "
   ]
  },
  {
   "cell_type": "markdown",
   "metadata": {},
   "source": [
    "# Using Tablau or Excel, we can see the output"
   ]
  },
  {
   "cell_type": "markdown",
   "metadata": {},
   "source": [
    "Since there are duplicate Lat & Lon exists in dataset, we need to remove duplicates before we call google api to get zip"
   ]
  },
  {
   "cell_type": "code",
   "execution_count": 58,
   "metadata": {},
   "outputs": [
    {
     "data": {
      "text/html": [
       "<div>\n",
       "<style scoped>\n",
       "    .dataframe tbody tr th:only-of-type {\n",
       "        vertical-align: middle;\n",
       "    }\n",
       "\n",
       "    .dataframe tbody tr th {\n",
       "        vertical-align: top;\n",
       "    }\n",
       "\n",
       "    .dataframe thead th {\n",
       "        text-align: right;\n",
       "    }\n",
       "</style>\n",
       "<table border=\"1\" class=\"dataframe\">\n",
       "  <thead>\n",
       "    <tr style=\"text-align: right;\">\n",
       "      <th></th>\n",
       "      <th>latitude</th>\n",
       "      <th>longitude</th>\n",
       "    </tr>\n",
       "  </thead>\n",
       "  <tbody>\n",
       "    <tr>\n",
       "      <th>0</th>\n",
       "      <td>40.79598</td>\n",
       "      <td>-73.94288</td>\n",
       "    </tr>\n",
       "    <tr>\n",
       "      <th>1</th>\n",
       "      <td>40.74921</td>\n",
       "      <td>-73.99273</td>\n",
       "    </tr>\n",
       "    <tr>\n",
       "      <th>2</th>\n",
       "      <td>40.75394</td>\n",
       "      <td>-73.80538</td>\n",
       "    </tr>\n",
       "  </tbody>\n",
       "</table>\n",
       "</div>"
      ],
      "text/plain": [
       "   latitude  longitude\n",
       "0  40.79598  -73.94288\n",
       "1  40.74921  -73.99273\n",
       "2  40.75394  -73.80538"
      ]
     },
     "execution_count": 58,
     "metadata": {},
     "output_type": "execute_result"
    }
   ],
   "source": [
    "#sample are restricted to 3 since it cost money\n",
    "sample_df= df_ny_air_bnb.sample(n=3).loc[:,[\"latitude\",\"longitude\"]].drop_duplicates(subset=None, keep='first', inplace=False)\n",
    "sample_df= sample_df.reset_index(drop=True)\n",
    "sample_df"
   ]
  },
  {
   "cell_type": "code",
   "execution_count": 59,
   "metadata": {},
   "outputs": [
    {
     "data": {
      "text/html": [
       "<div>\n",
       "<style scoped>\n",
       "    .dataframe tbody tr th:only-of-type {\n",
       "        vertical-align: middle;\n",
       "    }\n",
       "\n",
       "    .dataframe tbody tr th {\n",
       "        vertical-align: top;\n",
       "    }\n",
       "\n",
       "    .dataframe thead th {\n",
       "        text-align: right;\n",
       "    }\n",
       "</style>\n",
       "<table border=\"1\" class=\"dataframe\">\n",
       "  <thead>\n",
       "    <tr style=\"text-align: right;\">\n",
       "      <th></th>\n",
       "      <th>lat</th>\n",
       "      <th>lon</th>\n",
       "      <th>zip</th>\n",
       "    </tr>\n",
       "  </thead>\n",
       "  <tbody>\n",
       "    <tr>\n",
       "      <th>0</th>\n",
       "      <td>40.79598</td>\n",
       "      <td>-73.94288</td>\n",
       "      <td>10029</td>\n",
       "    </tr>\n",
       "    <tr>\n",
       "      <th>1</th>\n",
       "      <td>40.74921</td>\n",
       "      <td>-73.99273</td>\n",
       "      <td>10001</td>\n",
       "    </tr>\n",
       "    <tr>\n",
       "      <th>2</th>\n",
       "      <td>40.75394</td>\n",
       "      <td>-73.80538</td>\n",
       "      <td>11358</td>\n",
       "    </tr>\n",
       "  </tbody>\n",
       "</table>\n",
       "</div>"
      ],
      "text/plain": [
       "        lat       lon    zip\n",
       "0  40.79598 -73.94288  10029\n",
       "1  40.74921 -73.99273  10001\n",
       "2  40.75394 -73.80538  11358"
      ]
     },
     "execution_count": 59,
     "metadata": {},
     "output_type": "execute_result"
    }
   ],
   "source": [
    "postal_code = \"postal_code\"\n",
    "zip_code= []\n",
    "\n",
    "base_url= \"https://maps.googleapis.com/maps/api/geocode/json\"\n",
    "\n",
    "\n",
    "for i,j in sample_df.iterrows():\n",
    "    query=f\"{base_url}?latlng={j.latitude},{j.longitude}&result_type={postal_code}&key={gkey}\"\n",
    "    #print(query)\n",
    "    response = requests.get(query).json()\n",
    "    try:\n",
    "         zip_code.append({\"zip\":response[\"results\"][0][\"address_components\"][0][\"long_name\"],\n",
    "                          \"lat\":j.latitude,\n",
    "                          \"lon\":j.longitude})\n",
    "    except:\n",
    "            print(\"not found\") \n",
    "            \n",
    "df_zip_lan_lon = pd.DataFrame(zip_code)\n",
    "df_zip_lan_lon.to_csv(\"zip_code_lat_lon_lookup.csv\")\n",
    "df_zip_lan_lon"
   ]
  },
  {
   "cell_type": "code",
   "execution_count": null,
   "metadata": {},
   "outputs": [],
   "source": []
  },
  {
   "cell_type": "code",
   "execution_count": null,
   "metadata": {},
   "outputs": [],
   "source": []
  }
 ],
 "metadata": {
  "kernelspec": {
   "display_name": "Python 3",
   "language": "python",
   "name": "python3"
  },
  "language_info": {
   "codemirror_mode": {
    "name": "ipython",
    "version": 3
   },
   "file_extension": ".py",
   "mimetype": "text/x-python",
   "name": "python",
   "nbconvert_exporter": "python",
   "pygments_lexer": "ipython3",
   "version": "3.7.3"
  }
 },
 "nbformat": 4,
 "nbformat_minor": 4
}
